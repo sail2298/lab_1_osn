{
  "cells": [
    {
      "cell_type": "markdown",
      "metadata": {
        "id": "M-DGa20PaHnu"
      },
      "source": [
        "#Задача 1\n",
        "Написать функцию на вход которой подается строка, состоящая из латинских букв.\n",
        "Функция должна вернуть количество гласных букв (a, e, i, o, u) в этой строке. Написать тесты для кода"
      ]
    },
    {
      "cell_type": "code",
      "execution_count": 15,
      "metadata": {
        "id": "XvX8X_JJ6PCb"
      },
      "outputs": [
        {
          "name": "stdout",
          "output_type": "stream",
          "text": [
            "Все тесты пройдены!\n"
          ]
        }
      ],
      "source": [
        "def serch_gl(s):\n",
        "    vowels = \"aeiouAEIOU\"\n",
        "    return sum(1 for char in s if char in vowels)\n",
        "\n",
        "def test_serch_gl():\n",
        "    assert serch_gl(\"\") == 0, \"Ты балбес, иди думай как исправить!\"\n",
        "    assert serch_gl(\"bcdfg\") == 0, \"Ты голум, иди думай как исправить!\"\n",
        "    assert serch_gl(\"aeiou\") == 5, \"Ты серьёзно?, иди думай как исправить!\"\n",
        "    assert serch_gl(\"AEIOU\") == 5, \"Ты дуралееееей, иди думай как исправить!\"\n",
        "    assert serch_gl(\"Hello World\") == 3, \"Ну тебя, иди думай как исправить!\"\n",
        "    assert serch_gl(\"AaEeIiOoUu\") == 10, \"Ты *******, иди думай как исправить!\"\n",
        "    assert serch_gl(\"a1e2i3o4u5\") == 5, \"Ты... Ты... у меня нет слов, иди думай как исправить!\"\n",
        "    assert serch_gl(\"bcdfghjklmnpqrstvwxyz\") == 0, \"Пока, иди думай как исправить!\"\n",
        "    assert serch_gl(\"mama\") == 2, \"Брат, ну это прям не серьёзно, иди думай как исправить!\"\n",
        "\n",
        "test_serch_gl()\n",
        "\n",
        "print(\"Все тесты пройдены!\")\n",
        "\n",
        "\n"
      ]
    },
    {
      "cell_type": "markdown",
      "metadata": {
        "id": "t2ClV_Y0bbr6"
      },
      "source": [
        "# Задача 2\n",
        "Написать функцию на вход, которой подается строка. Функция должна вернуть true, если\n",
        "каждый символ в строке встречается только 1 раз, иначе должна вернуть false. Написать тесты для кода"
      ]
    },
    {
      "cell_type": "markdown",
      "metadata": {},
      "source": []
    },
    {
      "cell_type": "code",
      "execution_count": 22,
      "metadata": {
        "id": "FppbECao6VIz"
      },
      "outputs": [
        {
          "name": "stdout",
          "output_type": "stream",
          "text": [
            "РАКОМ САКОМ!!! ТЫ КРАСАВЧИК!!!\n"
          ]
        }
      ],
      "source": [
        "def pov(s):\n",
        "    s = str(s)\n",
        "    return len(set(s)) == len(s)\n",
        "\n",
        "def test_pov():\n",
        "    assert pov(\"\") == True, \"Придурок?\"\n",
        "    assert pov(\"abc\") == True, \"Переделывай!\"\n",
        "    assert pov(\"a\") == True, \"Серьёзно? Хочешь с начала начать?\"\n",
        "    assert pov(\"machine\") == True, \"иди траву потрогай\"\n",
        "    assert pov(\"maschine suk\") == False, \"Ошибка: Вы натурал, у нас таких не любят.\"\n",
        "    assert pov(\"hello\") == False, \"Перекури каткой в доте и иди переделывать\"\n",
        "    assert pov(\"abcdefg\") == True, \"Ошибка: Вы идиот!\"\n",
        "    assert pov(\"AaBbCc\") == True, \"Не, ну это не серьёзно\"\n",
        "    assert pov(\"123456\") == True, \"ЦЫФРЫЫЫЫЫЫЫЫЫЫЫЫЫ\"\n",
        "    assert pov(\"123321\") == False, \"АААААААААААААААААААА\"\n",
        "    a = 123\n",
        "    assert pov(a) == True, \"Я знаю как это тупо, но всякое может быть\"\n",
        "\n",
        "\n",
        "test_pov()\n",
        "\n",
        "print(\"РАКОМ САКОМ!!! ТЫ КРАСАВЧИК!!!\")\n"
      ]
    },
    {
      "cell_type": "markdown",
      "metadata": {
        "id": "udRiIK1cdt6E"
      },
      "source": [
        "# Задача 3\n",
        "Написать функцию, которая принимает положительное число и возвращает количество\n",
        "бит равных 1 в этом числе. Написать тесты для кода"
      ]
    },
    {
      "cell_type": "code",
      "execution_count": 43,
      "metadata": {
        "id": "6tkfDJRz6dp_"
      },
      "outputs": [
        {
          "name": "stdout",
          "output_type": "stream",
          "text": [
            "Не-а, даже не надейтесь, я слишком ленив для этого)\n",
            "Не-а, даже не надейтесь, я слишком ленив для этого)\n",
            "ПОЛНЕЙШИЙ РАКОМ САКОМ!!!\n"
          ]
        }
      ],
      "source": [
        "def count_bit(n):\n",
        "    if not(isinstance(n, int)):\n",
        "        print(\"Не-а, даже не надейтесь, я слишком ленив для этого)\")\n",
        "        return False\n",
        "    else:\n",
        "        return bin(n).count('1')\n",
        "\n",
        "def test_count_bit():\n",
        "    assert count_bit(0) == 0, \"пока\"\n",
        "    assert count_bit(1) == 1, \"Досвидания\"\n",
        "    assert count_bit(2) == 1, \"гудбай\"\n",
        "    assert count_bit(3) == 2, \"оривидерчи\"\n",
        "    assert count_bit(4) == 1, \"хаиль\"\n",
        "    assert count_bit(5) == 2, \"прощай\"\n",
        "    assert count_bit(255) == 8, \"гутен морген\"\n",
        "    assert count_bit(256) == 1, \"пока пока балбес!\"\n",
        "    assert count_bit(123456789) == 16, \"у меня кончились идеи\"\n",
        "    assert count_bit(4294967295) == 32, \"материться же нельзя?\"\n",
        "    assert count_bit(4294967295.256) == False, \"ПЕРВЫЙ СКИЛЛ И 3!!! ПЕРВЫЙ И ТРЕТИЙ\"\n",
        "    assert count_bit(\"4294967295\") == False, \"Мало ли что очевидно\"\n",
        "\n",
        "test_count_bit()\n",
        "\n",
        "print(\"ПОЛНЕЙШИЙ РАКОМ САКОМ!!!\")\n",
        "\n",
        "#На самом деле возникает вопрос по задаче. Если функция приняла строку, нужно ли в int переводить, а если там цыфры после запятой есть? Нужно ли учитывать \n",
        "#Float при решении этой задачи? некоторые Float при переводе могут давать неточные или бесконечные значения, работаем ли мы с этим? Я выбрал путь легче и сделал как сделал\n",
        "#Если всё выше перечисленное нужно учитывать, вы только скажите, я исправлю!\n"
      ]
    },
    {
      "cell_type": "markdown",
      "metadata": {
        "id": "26dDUz-Ae17N"
      },
      "source": [
        "# Задача 4\n",
        "Написать функцию, которая принимает положительное число. Функция должна вернуть то,\n",
        "сколько раз необходимо перемножать цифры числа или результат перемножения, чтобы\n",
        "получилось число состоящее из одной цифры.\n",
        "Например, для входного числа:\n",
        "· 39 функция должна вернуть 3, так как 3*9=27 => 2*7=14 => 1*4=4\n",
        "· 4 функция должна вернуть 0, так как число уже состоит из одной цифры\n",
        "· 999 функция должна вернуть 4, так как 9*9*9=729 => 7*2*9=126 => 1*2*6=12 =>\n",
        "1*2=2. Написать тесты для кода"
      ]
    },
    {
      "cell_type": "code",
      "execution_count": 57,
      "metadata": {
        "id": "BH1A_Mgi6i4G"
      },
      "outputs": [
        {
          "name": "stdout",
          "output_type": "stream",
          "text": [
            "Тот кто это прочитал, пусть у него всё круто будет и мама всегда рада была!\n"
          ]
        }
      ],
      "source": [
        "def magic(n):\n",
        "    n = int(n)\n",
        "    if n < 10:\n",
        "        return 0\n",
        "    \n",
        "    count = 0\n",
        "    while n >= 10:\n",
        "        product = 1\n",
        "        for d in str(n):\n",
        "            product *= int(d)\n",
        "        n = product\n",
        "        count += 1\n",
        "    return count\n",
        "\n",
        "\n",
        "def test_magic():\n",
        "    assert magic(39) == 3, \"Ошибка: Неверный результат для 39\"\n",
        "    assert magic(4) == 0, \"Ошибка: Неверный результат для 4\"\n",
        "    assert magic(999) == 4, \"Ошибка: Неверный результат для 999\"\n",
        "    assert magic(77) == 4, \"Ошибка: Неверный результат для 77\"\n",
        "    assert magic(123) == 1, \"Ошибка: Неверный результат для 123\"\n",
        "    assert magic(678) == 4, \"Ошибка: Неверный результат для 678\"\n",
        "    assert magic(9999) == 3, \"Ошибка: Неверный результат для 9999\"\n",
        "    assert magic(0) == 0, \"ну да он должен быть положительным, ну и что с того?\"\n",
        "    assert magic(\"77\") == 4, \"Да-да\"\n",
        "\n",
        "test_magic()\n",
        "\n",
        "print(\"Тот кто это прочитал, пусть у него всё круто будет и мама всегда рада была!\")\n"
      ]
    },
    {
      "cell_type": "markdown",
      "metadata": {
        "id": "0nS-kIa8g8vd"
      },
      "source": [
        "# Задача 5\n",
        "Написать функцию, которая принимает два целочисленных вектора одинаковой длины и\n",
        "возвращает среднеквадратическое отклонение двух векторов. Написать тесты для кода"
      ]
    },
    {
      "cell_type": "code",
      "execution_count": 1,
      "metadata": {
        "id": "8iphx4LM6xbx"
      },
      "outputs": [
        {
          "name": "stdout",
          "output_type": "stream",
          "text": [
            "Все тесты пройдены.\n"
          ]
        }
      ],
      "source": [
        "import math\n",
        "\n",
        "def vector_length(v):\n",
        "    return math.sqrt(sum(x ** 2 for x in v))\n",
        "\n",
        "def mse(v1, v2):\n",
        "    if len(v1) != len(v2):\n",
        "        print('Векторы не равны')\n",
        "        return None\n",
        "    sqr_sum = sum((x - y) ** 2 for x, y in zip(v1, v2))\n",
        "    return math.sqrt(sqr_sum / len(v1))\n",
        "\n",
        "def test_mse():\n",
        "    assert math.isclose(mse([1, 2, 3], [1, 2, 3]), 0), \"нет\"\n",
        "    assert math.isclose(mse([1, 2, 3], [4, 5, 6]), 3.0), \"пока\"\n",
        "    assert math.isclose(mse([10, 20, 30], [0, 0, 0]), 21.6, rel_tol=1e-2), \"нет\"\n",
        "    assert math.isclose(mse([-1, -2, -3], [-4, -5, -6]), 3.0), \"нет\"\n",
        "    assert math.isclose(mse([0, 0, 0], [0, 0, 0]), 0), \"нет\"\n",
        "    \n",
        "    print(\"Все тесты пройдены.\")\n",
        "\n",
        "test_mse()\n"
      ]
    },
    {
      "cell_type": "markdown",
      "metadata": {
        "id": "vpIPKL439zkw"
      },
      "source": [
        "# Задача 6\n",
        "Написать функцию, принимающая целое положительное число. Функция должна вернуть\n",
        "строку вида “(n1**p1)(n2**p2)…(nk**pk)” представляющая разложение числа на простые\n",
        "множители (если pi == 1, то выводить только ni).\n",
        "Например, для числа 86240 функция должна вернуть “(2**5)(5)(7**2)(11)”. Написать тесты для кода"
      ]
    },
    {
      "cell_type": "code",
      "execution_count": 1,
      "metadata": {
        "id": "pFebmcZk94Jw"
      },
      "outputs": [
        {
          "name": "stdout",
          "output_type": "stream",
          "text": [
            "все тесты пройдены.\n"
          ]
        }
      ],
      "source": [
        "def prime_f(n):\n",
        "    f = {}\n",
        "    divisor = 2\n",
        "    while n > 1:\n",
        "        count = 0\n",
        "        while n % divisor == 0:\n",
        "            n //= divisor\n",
        "            count += 1\n",
        "        if count > 0:\n",
        "            f[divisor] = count\n",
        "        divisor += 1\n",
        "    \n",
        "    result = \"\"\n",
        "    for f, power in f.items():\n",
        "        if power == 1:\n",
        "            result += f\"({f})\"\n",
        "        else:\n",
        "            result += f\"({f}**{power})\"\n",
        "    \n",
        "    return result\n",
        "\n",
        "\n",
        "def test_prime_factors():\n",
        "    assert prime_f(86240) == \"(2**5)(5)(7**2)(11)\", \"извинись перед мамой!\"\n",
        "    assert prime_f(100) == \"(2**2)(5**2)\", \"ошибка\"\n",
        "    assert prime_f(2) == \"(2)\", \"ошибка\"\n",
        "    assert prime_f(30) == \"(2)(3)(5)\", \"ошибка\"\n",
        "    assert prime_f(360) == \"(2**3)(3**2)(5)\", \"ошибка\"\n",
        "    print(\"все тесты пройдены.\")\n",
        "\n",
        "\n",
        "\n",
        "test_prime_factors()\n"
      ]
    },
    {
      "cell_type": "markdown",
      "metadata": {
        "id": "ps2s0BudX7A2"
      },
      "source": [
        "# Задача 7\n",
        "Написать функцию, принимающая целое число n, задающее количество кубиков. Функция\n",
        "должна определить, можно ли из данного кол-ва кубиков построить пирамиду, то есть\n",
        "можно ли представить число n как 1^2+2^2+3^2+…+k^2. Если можно, то функция должна\n",
        "вернуть k, иначе строку “It is impossible”. Написать тесты для кода"
      ]
    },
    {
      "cell_type": "code",
      "execution_count": 10,
      "metadata": {
        "id": "3YPjEXxhX_YT"
      },
      "outputs": [
        {
          "name": "stdout",
          "output_type": "stream",
          "text": [
            "Все тесты пройдены!\n"
          ]
        }
      ],
      "source": [
        "def pyramid(n):\n",
        "    total = 0\n",
        "    k = 0\n",
        "    \n",
        "    while total < n:\n",
        "        k += 1\n",
        "        total += k ** 2\n",
        "        \n",
        "        if total == n:\n",
        "            return k\n",
        "    \n",
        "    return \"невозможно\"\n",
        "\n",
        "\n",
        "def test_pyramid():\n",
        "    assert pyramid(14) == 3, \"пока\"\n",
        "    assert pyramid(30) == 4, \"...\"\n",
        "    assert pyramid(20) == \"невозможно\", \"Ещё бы я тут не ошибся\"\n",
        "    assert pyramid(1) == 1, \"Тест не пройден\"\n",
        "    assert pyramid(55) == 5, \"ты гей\"\n",
        "    print(\"Все тесты пройдены!\")\n",
        "\n",
        "\n",
        "test_pyramid()\n"
      ]
    },
    {
      "cell_type": "markdown",
      "metadata": {
        "id": "KeKgmIdAQMEJ"
      },
      "source": [
        "# Задача 8\n",
        "Функция принимает на вход положительное число и определяет является ли оно сбалансированным, т.е. сумма цифр до средних равна сумме цифр после. Средними в случае нечетного числа цифр считать одну цифру, в случае четного - две средних. Написать тесты для кода"
      ]
    },
    {
      "cell_type": "code",
      "execution_count": 12,
      "metadata": {
        "id": "gMAAqtqlQrZt"
      },
      "outputs": [
        {
          "name": "stdout",
          "output_type": "stream",
          "text": [
            "Все тесты пройдены!\n"
          ]
        }
      ],
      "source": [
        "def is_balanced_number(n):\n",
        "    digits = str(n)\n",
        "    ln = len(digits)\n",
        "\n",
        "    if ln % 2 == 0:\n",
        "        mid1 = ln // 2 - 1\n",
        "        mid2 = ln // 2\n",
        "        left_sum = sum(int(d) for d in digits[:mid1 + 1])\n",
        "        right_sum = sum(int(d) for d in digits[mid2:])\n",
        "    else:\n",
        "        mid = ln // 2\n",
        "        left_sum = sum(int(d) for d in digits[:mid])\n",
        "        right_sum = sum(int(d) for d in digits[mid + 1:])\n",
        "\n",
        "    return left_sum == right_sum\n",
        "\n",
        "\n",
        "def test_is_balanced_number():\n",
        "    assert is_balanced_number(123321) == True, \"не пройден\"\n",
        "    assert is_balanced_number(123456) == False, \"не пройден\"\n",
        "    assert is_balanced_number(1234321) == True, \"не пройден\"\n",
        "    assert is_balanced_number(12321) == True, \"не пройден\"\n",
        "    assert is_balanced_number(1) == True, \"не пройден\"\n",
        "    assert is_balanced_number(22) == True, \"не пройден\"\n",
        "    assert is_balanced_number(123) == False, \"не пройден\"\n",
        "    assert is_balanced_number(1233210) == False, \"не пройден\"\n",
        "    print(\"Все тесты пройдены!\")\n",
        "\n",
        "\n",
        "test_is_balanced_number()\n"
      ]
    }
  ],
  "metadata": {
    "colab": {
      "provenance": []
    },
    "kernelspec": {
      "display_name": "Python 3",
      "name": "python3"
    },
    "language_info": {
      "codemirror_mode": {
        "name": "ipython",
        "version": 3
      },
      "file_extension": ".py",
      "mimetype": "text/x-python",
      "name": "python",
      "nbconvert_exporter": "python",
      "pygments_lexer": "ipython3",
      "version": "3.12.6"
    }
  },
  "nbformat": 4,
  "nbformat_minor": 0
}
